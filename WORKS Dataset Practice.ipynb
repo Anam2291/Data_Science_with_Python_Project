{
 "cells": [
  {
   "cell_type": "code",
   "execution_count": 1,
   "id": "80141088",
   "metadata": {},
   "outputs": [],
   "source": [
    "import pandas as pd"
   ]
  },
  {
   "cell_type": "code",
   "execution_count": 2,
   "id": "30c28436",
   "metadata": {},
   "outputs": [
    {
     "data": {
      "text/html": [
       "<div>\n",
       "<style scoped>\n",
       "    .dataframe tbody tr th:only-of-type {\n",
       "        vertical-align: middle;\n",
       "    }\n",
       "\n",
       "    .dataframe tbody tr th {\n",
       "        vertical-align: top;\n",
       "    }\n",
       "\n",
       "    .dataframe thead th {\n",
       "        text-align: right;\n",
       "    }\n",
       "</style>\n",
       "<table border=\"1\" class=\"dataframe\">\n",
       "  <thead>\n",
       "    <tr style=\"text-align: right;\">\n",
       "      <th></th>\n",
       "      <th>Title</th>\n",
       "      <th>Artist</th>\n",
       "      <th>Nationality</th>\n",
       "      <th>BeginDate</th>\n",
       "      <th>EndDate</th>\n",
       "      <th>Gender</th>\n",
       "      <th>Date</th>\n",
       "      <th>Department</th>\n",
       "    </tr>\n",
       "  </thead>\n",
       "  <tbody>\n",
       "    <tr>\n",
       "      <th>0</th>\n",
       "      <td>Dress MacLeod from Tartan Sets</td>\n",
       "      <td>Sarah Charlesworth</td>\n",
       "      <td>American</td>\n",
       "      <td>1947.0</td>\n",
       "      <td>2013.0</td>\n",
       "      <td>Female</td>\n",
       "      <td>1986</td>\n",
       "      <td>Prints &amp; Illustrated Books</td>\n",
       "    </tr>\n",
       "    <tr>\n",
       "      <th>1</th>\n",
       "      <td>Duplicate of plate from folio 11 verso (supple...</td>\n",
       "      <td>Pablo Palazuelo</td>\n",
       "      <td>Spanish</td>\n",
       "      <td>1916.0</td>\n",
       "      <td>2007.0</td>\n",
       "      <td>Male</td>\n",
       "      <td>1978</td>\n",
       "      <td>Prints &amp; Illustrated Books</td>\n",
       "    </tr>\n",
       "    <tr>\n",
       "      <th>2</th>\n",
       "      <td>Tailpiece (page 55) from SAGESSE</td>\n",
       "      <td>Maurice Denis</td>\n",
       "      <td>French</td>\n",
       "      <td>1870.0</td>\n",
       "      <td>1943.0</td>\n",
       "      <td>Male</td>\n",
       "      <td>1968</td>\n",
       "      <td>Prints &amp; Illustrated Books</td>\n",
       "    </tr>\n",
       "    <tr>\n",
       "      <th>3</th>\n",
       "      <td>Headpiece (page 129) from LIVRET DE FOLASTRIES...</td>\n",
       "      <td>Aristide Maillol</td>\n",
       "      <td>French</td>\n",
       "      <td>1861.0</td>\n",
       "      <td>1944.0</td>\n",
       "      <td>Male</td>\n",
       "      <td>1968</td>\n",
       "      <td>Prints &amp; Illustrated Books</td>\n",
       "    </tr>\n",
       "    <tr>\n",
       "      <th>4</th>\n",
       "      <td>97 rue du Bac</td>\n",
       "      <td>Eugène Atget</td>\n",
       "      <td>French</td>\n",
       "      <td>1857.0</td>\n",
       "      <td>1927.0</td>\n",
       "      <td>Male</td>\n",
       "      <td>1903</td>\n",
       "      <td>Photography</td>\n",
       "    </tr>\n",
       "    <tr>\n",
       "      <th>...</th>\n",
       "      <td>...</td>\n",
       "      <td>...</td>\n",
       "      <td>...</td>\n",
       "      <td>...</td>\n",
       "      <td>...</td>\n",
       "      <td>...</td>\n",
       "      <td>...</td>\n",
       "      <td>...</td>\n",
       "    </tr>\n",
       "    <tr>\n",
       "      <th>16720</th>\n",
       "      <td>Oval with Points</td>\n",
       "      <td>Henry Moore</td>\n",
       "      <td>British</td>\n",
       "      <td>1898.0</td>\n",
       "      <td>1986.0</td>\n",
       "      <td>Male</td>\n",
       "      <td>1968</td>\n",
       "      <td>Painting &amp; Sculpture</td>\n",
       "    </tr>\n",
       "    <tr>\n",
       "      <th>16721</th>\n",
       "      <td>Cementerio de la Ciudad Abierta, Ritoque, Chile</td>\n",
       "      <td>Juan Baixas</td>\n",
       "      <td>Chilean</td>\n",
       "      <td>1942.0</td>\n",
       "      <td>NaN</td>\n",
       "      <td>Male</td>\n",
       "      <td>1975</td>\n",
       "      <td>Architecture &amp; Design</td>\n",
       "    </tr>\n",
       "    <tr>\n",
       "      <th>16722</th>\n",
       "      <td>The Catboat</td>\n",
       "      <td>Edward Hopper</td>\n",
       "      <td>American</td>\n",
       "      <td>1882.0</td>\n",
       "      <td>1967.0</td>\n",
       "      <td>Male</td>\n",
       "      <td>1922</td>\n",
       "      <td>Prints &amp; Illustrated Books</td>\n",
       "    </tr>\n",
       "    <tr>\n",
       "      <th>16723</th>\n",
       "      <td>Dognat' i peregnat' v tekhniko-ekonomicheskom ...</td>\n",
       "      <td>Unknown</td>\n",
       "      <td>Nationality Unknown</td>\n",
       "      <td>NaN</td>\n",
       "      <td>NaN</td>\n",
       "      <td>Gender Unknown</td>\n",
       "      <td>1931</td>\n",
       "      <td>Prints &amp; Illustrated Books</td>\n",
       "    </tr>\n",
       "    <tr>\n",
       "      <th>16724</th>\n",
       "      <td>Plate (page 11) from The Dive</td>\n",
       "      <td>Alex Katz</td>\n",
       "      <td>American</td>\n",
       "      <td>1927.0</td>\n",
       "      <td>NaN</td>\n",
       "      <td>Male</td>\n",
       "      <td>2011</td>\n",
       "      <td>Prints &amp; Illustrated Books</td>\n",
       "    </tr>\n",
       "  </tbody>\n",
       "</table>\n",
       "<p>16725 rows × 8 columns</p>\n",
       "</div>"
      ],
      "text/plain": [
       "                                                   Title              Artist  \\\n",
       "0                         Dress MacLeod from Tartan Sets  Sarah Charlesworth   \n",
       "1      Duplicate of plate from folio 11 verso (supple...     Pablo Palazuelo   \n",
       "2                       Tailpiece (page 55) from SAGESSE       Maurice Denis   \n",
       "3      Headpiece (page 129) from LIVRET DE FOLASTRIES...    Aristide Maillol   \n",
       "4                                          97 rue du Bac        Eugène Atget   \n",
       "...                                                  ...                 ...   \n",
       "16720                                   Oval with Points         Henry Moore   \n",
       "16721    Cementerio de la Ciudad Abierta, Ritoque, Chile         Juan Baixas   \n",
       "16722                                        The Catboat       Edward Hopper   \n",
       "16723  Dognat' i peregnat' v tekhniko-ekonomicheskom ...             Unknown   \n",
       "16724                      Plate (page 11) from The Dive           Alex Katz   \n",
       "\n",
       "               Nationality  BeginDate  EndDate          Gender  Date  \\\n",
       "0                 American     1947.0   2013.0          Female  1986   \n",
       "1                  Spanish     1916.0   2007.0            Male  1978   \n",
       "2                   French     1870.0   1943.0            Male  1968   \n",
       "3                   French     1861.0   1944.0            Male  1968   \n",
       "4                   French     1857.0   1927.0            Male  1903   \n",
       "...                    ...        ...      ...             ...   ...   \n",
       "16720              British     1898.0   1986.0            Male  1968   \n",
       "16721              Chilean     1942.0      NaN            Male  1975   \n",
       "16722             American     1882.0   1967.0            Male  1922   \n",
       "16723  Nationality Unknown        NaN      NaN  Gender Unknown  1931   \n",
       "16724             American     1927.0      NaN            Male  2011   \n",
       "\n",
       "                       Department  \n",
       "0      Prints & Illustrated Books  \n",
       "1      Prints & Illustrated Books  \n",
       "2      Prints & Illustrated Books  \n",
       "3      Prints & Illustrated Books  \n",
       "4                     Photography  \n",
       "...                           ...  \n",
       "16720        Painting & Sculpture  \n",
       "16721       Architecture & Design  \n",
       "16722  Prints & Illustrated Books  \n",
       "16723  Prints & Illustrated Books  \n",
       "16724  Prints & Illustrated Books  \n",
       "\n",
       "[16725 rows x 8 columns]"
      ]
     },
     "execution_count": 2,
     "metadata": {},
     "output_type": "execute_result"
    }
   ],
   "source": [
    "df = pd.read_csv('cleaned_works.csv',index_col= 0)\n",
    "df"
   ]
  },
  {
   "cell_type": "code",
   "execution_count": 3,
   "id": "11bca1d6",
   "metadata": {},
   "outputs": [
    {
     "data": {
      "text/html": [
       "<div>\n",
       "<style scoped>\n",
       "    .dataframe tbody tr th:only-of-type {\n",
       "        vertical-align: middle;\n",
       "    }\n",
       "\n",
       "    .dataframe tbody tr th {\n",
       "        vertical-align: top;\n",
       "    }\n",
       "\n",
       "    .dataframe thead th {\n",
       "        text-align: right;\n",
       "    }\n",
       "</style>\n",
       "<table border=\"1\" class=\"dataframe\">\n",
       "  <thead>\n",
       "    <tr style=\"text-align: right;\">\n",
       "      <th></th>\n",
       "      <th>Title</th>\n",
       "      <th>Artist</th>\n",
       "      <th>Nationality</th>\n",
       "      <th>BeginDate</th>\n",
       "      <th>EndDate</th>\n",
       "      <th>Gender</th>\n",
       "      <th>Date</th>\n",
       "      <th>Department</th>\n",
       "    </tr>\n",
       "  </thead>\n",
       "  <tbody>\n",
       "    <tr>\n",
       "      <th>0</th>\n",
       "      <td>Dress MacLeod from Tartan Sets</td>\n",
       "      <td>Sarah Charlesworth</td>\n",
       "      <td>American</td>\n",
       "      <td>1947.0</td>\n",
       "      <td>2013.0</td>\n",
       "      <td>Female</td>\n",
       "      <td>1986</td>\n",
       "      <td>Prints &amp; Illustrated Books</td>\n",
       "    </tr>\n",
       "    <tr>\n",
       "      <th>1</th>\n",
       "      <td>Duplicate of plate from folio 11 verso (supple...</td>\n",
       "      <td>Pablo Palazuelo</td>\n",
       "      <td>Spanish</td>\n",
       "      <td>1916.0</td>\n",
       "      <td>2007.0</td>\n",
       "      <td>Male</td>\n",
       "      <td>1978</td>\n",
       "      <td>Prints &amp; Illustrated Books</td>\n",
       "    </tr>\n",
       "    <tr>\n",
       "      <th>2</th>\n",
       "      <td>Tailpiece (page 55) from SAGESSE</td>\n",
       "      <td>Maurice Denis</td>\n",
       "      <td>French</td>\n",
       "      <td>1870.0</td>\n",
       "      <td>1943.0</td>\n",
       "      <td>Male</td>\n",
       "      <td>1968</td>\n",
       "      <td>Prints &amp; Illustrated Books</td>\n",
       "    </tr>\n",
       "  </tbody>\n",
       "</table>\n",
       "</div>"
      ],
      "text/plain": [
       "                                               Title              Artist  \\\n",
       "0                     Dress MacLeod from Tartan Sets  Sarah Charlesworth   \n",
       "1  Duplicate of plate from folio 11 verso (supple...     Pablo Palazuelo   \n",
       "2                   Tailpiece (page 55) from SAGESSE       Maurice Denis   \n",
       "\n",
       "  Nationality  BeginDate  EndDate  Gender  Date                  Department  \n",
       "0    American     1947.0   2013.0  Female  1986  Prints & Illustrated Books  \n",
       "1     Spanish     1916.0   2007.0    Male  1978  Prints & Illustrated Books  \n",
       "2      French     1870.0   1943.0    Male  1968  Prints & Illustrated Books  "
      ]
     },
     "execution_count": 3,
     "metadata": {},
     "output_type": "execute_result"
    }
   ],
   "source": [
    "df.head(3)"
   ]
  },
  {
   "cell_type": "code",
   "execution_count": 4,
   "id": "fed8e58a",
   "metadata": {},
   "outputs": [
    {
     "data": {
      "text/plain": [
       "(16725, 8)"
      ]
     },
     "execution_count": 4,
     "metadata": {},
     "output_type": "execute_result"
    }
   ],
   "source": [
    "df.shape  # How many rows & columns,in the form of Tuple Data Structure"
   ]
  },
  {
   "cell_type": "code",
   "execution_count": 5,
   "id": "71696072",
   "metadata": {},
   "outputs": [
    {
     "name": "stdout",
     "output_type": "stream",
     "text": [
      "Total rows:  16725\n",
      "Total cols:  8\n"
     ]
    }
   ],
   "source": [
    "print(\"Total rows: \",df.shape[0])\n",
    "print(\"Total cols: \" ,df.shape[1])"
   ]
  },
  {
   "cell_type": "code",
   "execution_count": 6,
   "id": "d80e6c7c",
   "metadata": {},
   "outputs": [],
   "source": [
    "df[\"Nationality\"] = df[\"Nationality\"].str.replace(\"(\",\"\").str.strip(\")\")"
   ]
  },
  {
   "cell_type": "code",
   "execution_count": 7,
   "id": "1f57823d",
   "metadata": {},
   "outputs": [],
   "source": [
    "df[\"Gender\"] = df[\"Gender\"].str.replace(\"(\",\"\").str.strip(\")\")"
   ]
  },
  {
   "cell_type": "code",
   "execution_count": 8,
   "id": "f8d77b60",
   "metadata": {},
   "outputs": [
    {
     "data": {
      "text/html": [
       "<div>\n",
       "<style scoped>\n",
       "    .dataframe tbody tr th:only-of-type {\n",
       "        vertical-align: middle;\n",
       "    }\n",
       "\n",
       "    .dataframe tbody tr th {\n",
       "        vertical-align: top;\n",
       "    }\n",
       "\n",
       "    .dataframe thead th {\n",
       "        text-align: right;\n",
       "    }\n",
       "</style>\n",
       "<table border=\"1\" class=\"dataframe\">\n",
       "  <thead>\n",
       "    <tr style=\"text-align: right;\">\n",
       "      <th></th>\n",
       "      <th>Title</th>\n",
       "      <th>Artist</th>\n",
       "      <th>Nationality</th>\n",
       "      <th>BeginDate</th>\n",
       "      <th>EndDate</th>\n",
       "      <th>Gender</th>\n",
       "      <th>Date</th>\n",
       "      <th>Department</th>\n",
       "    </tr>\n",
       "  </thead>\n",
       "  <tbody>\n",
       "    <tr>\n",
       "      <th>0</th>\n",
       "      <td>Dress MacLeod from Tartan Sets</td>\n",
       "      <td>Sarah Charlesworth</td>\n",
       "      <td>American</td>\n",
       "      <td>1947.0</td>\n",
       "      <td>2013.0</td>\n",
       "      <td>Female</td>\n",
       "      <td>1986</td>\n",
       "      <td>Prints &amp; Illustrated Books</td>\n",
       "    </tr>\n",
       "    <tr>\n",
       "      <th>1</th>\n",
       "      <td>Duplicate of plate from folio 11 verso (supple...</td>\n",
       "      <td>Pablo Palazuelo</td>\n",
       "      <td>Spanish</td>\n",
       "      <td>1916.0</td>\n",
       "      <td>2007.0</td>\n",
       "      <td>Male</td>\n",
       "      <td>1978</td>\n",
       "      <td>Prints &amp; Illustrated Books</td>\n",
       "    </tr>\n",
       "    <tr>\n",
       "      <th>2</th>\n",
       "      <td>Tailpiece (page 55) from SAGESSE</td>\n",
       "      <td>Maurice Denis</td>\n",
       "      <td>French</td>\n",
       "      <td>1870.0</td>\n",
       "      <td>1943.0</td>\n",
       "      <td>Male</td>\n",
       "      <td>1968</td>\n",
       "      <td>Prints &amp; Illustrated Books</td>\n",
       "    </tr>\n",
       "    <tr>\n",
       "      <th>3</th>\n",
       "      <td>Headpiece (page 129) from LIVRET DE FOLASTRIES...</td>\n",
       "      <td>Aristide Maillol</td>\n",
       "      <td>French</td>\n",
       "      <td>1861.0</td>\n",
       "      <td>1944.0</td>\n",
       "      <td>Male</td>\n",
       "      <td>1968</td>\n",
       "      <td>Prints &amp; Illustrated Books</td>\n",
       "    </tr>\n",
       "    <tr>\n",
       "      <th>4</th>\n",
       "      <td>97 rue du Bac</td>\n",
       "      <td>Eugène Atget</td>\n",
       "      <td>French</td>\n",
       "      <td>1857.0</td>\n",
       "      <td>1927.0</td>\n",
       "      <td>Male</td>\n",
       "      <td>1903</td>\n",
       "      <td>Photography</td>\n",
       "    </tr>\n",
       "    <tr>\n",
       "      <th>...</th>\n",
       "      <td>...</td>\n",
       "      <td>...</td>\n",
       "      <td>...</td>\n",
       "      <td>...</td>\n",
       "      <td>...</td>\n",
       "      <td>...</td>\n",
       "      <td>...</td>\n",
       "      <td>...</td>\n",
       "    </tr>\n",
       "    <tr>\n",
       "      <th>16720</th>\n",
       "      <td>Oval with Points</td>\n",
       "      <td>Henry Moore</td>\n",
       "      <td>British</td>\n",
       "      <td>1898.0</td>\n",
       "      <td>1986.0</td>\n",
       "      <td>Male</td>\n",
       "      <td>1968</td>\n",
       "      <td>Painting &amp; Sculpture</td>\n",
       "    </tr>\n",
       "    <tr>\n",
       "      <th>16721</th>\n",
       "      <td>Cementerio de la Ciudad Abierta, Ritoque, Chile</td>\n",
       "      <td>Juan Baixas</td>\n",
       "      <td>Chilean</td>\n",
       "      <td>1942.0</td>\n",
       "      <td>NaN</td>\n",
       "      <td>Male</td>\n",
       "      <td>1975</td>\n",
       "      <td>Architecture &amp; Design</td>\n",
       "    </tr>\n",
       "    <tr>\n",
       "      <th>16722</th>\n",
       "      <td>The Catboat</td>\n",
       "      <td>Edward Hopper</td>\n",
       "      <td>American</td>\n",
       "      <td>1882.0</td>\n",
       "      <td>1967.0</td>\n",
       "      <td>Male</td>\n",
       "      <td>1922</td>\n",
       "      <td>Prints &amp; Illustrated Books</td>\n",
       "    </tr>\n",
       "    <tr>\n",
       "      <th>16723</th>\n",
       "      <td>Dognat' i peregnat' v tekhniko-ekonomicheskom ...</td>\n",
       "      <td>Unknown</td>\n",
       "      <td>Nationality Unknown</td>\n",
       "      <td>NaN</td>\n",
       "      <td>NaN</td>\n",
       "      <td>Gender Unknown</td>\n",
       "      <td>1931</td>\n",
       "      <td>Prints &amp; Illustrated Books</td>\n",
       "    </tr>\n",
       "    <tr>\n",
       "      <th>16724</th>\n",
       "      <td>Plate (page 11) from The Dive</td>\n",
       "      <td>Alex Katz</td>\n",
       "      <td>American</td>\n",
       "      <td>1927.0</td>\n",
       "      <td>NaN</td>\n",
       "      <td>Male</td>\n",
       "      <td>2011</td>\n",
       "      <td>Prints &amp; Illustrated Books</td>\n",
       "    </tr>\n",
       "  </tbody>\n",
       "</table>\n",
       "<p>16725 rows × 8 columns</p>\n",
       "</div>"
      ],
      "text/plain": [
       "                                                   Title              Artist  \\\n",
       "0                         Dress MacLeod from Tartan Sets  Sarah Charlesworth   \n",
       "1      Duplicate of plate from folio 11 verso (supple...     Pablo Palazuelo   \n",
       "2                       Tailpiece (page 55) from SAGESSE       Maurice Denis   \n",
       "3      Headpiece (page 129) from LIVRET DE FOLASTRIES...    Aristide Maillol   \n",
       "4                                          97 rue du Bac        Eugène Atget   \n",
       "...                                                  ...                 ...   \n",
       "16720                                   Oval with Points         Henry Moore   \n",
       "16721    Cementerio de la Ciudad Abierta, Ritoque, Chile         Juan Baixas   \n",
       "16722                                        The Catboat       Edward Hopper   \n",
       "16723  Dognat' i peregnat' v tekhniko-ekonomicheskom ...             Unknown   \n",
       "16724                      Plate (page 11) from The Dive           Alex Katz   \n",
       "\n",
       "               Nationality  BeginDate  EndDate          Gender  Date  \\\n",
       "0                 American     1947.0   2013.0          Female  1986   \n",
       "1                  Spanish     1916.0   2007.0            Male  1978   \n",
       "2                   French     1870.0   1943.0            Male  1968   \n",
       "3                   French     1861.0   1944.0            Male  1968   \n",
       "4                   French     1857.0   1927.0            Male  1903   \n",
       "...                    ...        ...      ...             ...   ...   \n",
       "16720              British     1898.0   1986.0            Male  1968   \n",
       "16721              Chilean     1942.0      NaN            Male  1975   \n",
       "16722             American     1882.0   1967.0            Male  1922   \n",
       "16723  Nationality Unknown        NaN      NaN  Gender Unknown  1931   \n",
       "16724             American     1927.0      NaN            Male  2011   \n",
       "\n",
       "                       Department  \n",
       "0      Prints & Illustrated Books  \n",
       "1      Prints & Illustrated Books  \n",
       "2      Prints & Illustrated Books  \n",
       "3      Prints & Illustrated Books  \n",
       "4                     Photography  \n",
       "...                           ...  \n",
       "16720        Painting & Sculpture  \n",
       "16721       Architecture & Design  \n",
       "16722  Prints & Illustrated Books  \n",
       "16723  Prints & Illustrated Books  \n",
       "16724  Prints & Illustrated Books  \n",
       "\n",
       "[16725 rows x 8 columns]"
      ]
     },
     "execution_count": 8,
     "metadata": {},
     "output_type": "execute_result"
    }
   ],
   "source": [
    "df"
   ]
  },
  {
   "cell_type": "markdown",
   "id": "2b742d0a",
   "metadata": {},
   "source": [
    "## ***How we can display column from the Dataframe***"
   ]
  },
  {
   "cell_type": "code",
   "execution_count": 9,
   "id": "ed22cc94",
   "metadata": {},
   "outputs": [
    {
     "data": {
      "text/plain": [
       "Index(['Title', 'Artist', 'Nationality', 'BeginDate', 'EndDate', 'Gender',\n",
       "       'Date', 'Department'],\n",
       "      dtype='object')"
      ]
     },
     "execution_count": 9,
     "metadata": {},
     "output_type": "execute_result"
    }
   ],
   "source": [
    "df.columns"
   ]
  },
  {
   "cell_type": "code",
   "execution_count": 10,
   "id": "4d448e01",
   "metadata": {},
   "outputs": [
    {
     "name": "stdout",
     "output_type": "stream",
     "text": [
      "['Title', 'Artist', 'Nationality', 'BeginDate', 'EndDate', 'Gender', 'Date', 'Department']\n"
     ]
    }
   ],
   "source": [
    "print(df.columns.values.tolist())  # Display all the columns in the form \"list data structure\""
   ]
  },
  {
   "cell_type": "code",
   "execution_count": 11,
   "id": "3adb262f",
   "metadata": {},
   "outputs": [
    {
     "data": {
      "text/plain": [
       "array(['Title', 'Artist', 'Nationality', 'BeginDate', 'EndDate', 'Gender',\n",
       "       'Date', 'Department'], dtype=object)"
      ]
     },
     "execution_count": 11,
     "metadata": {},
     "output_type": "execute_result"
    }
   ],
   "source": [
    "df.columns.values"
   ]
  },
  {
   "cell_type": "code",
   "execution_count": 12,
   "id": "e5bebbac",
   "metadata": {},
   "outputs": [
    {
     "data": {
      "text/plain": [
       "Index(['Title', 'Artist', 'Nationality', 'BeginDate', 'EndDate', 'Gender',\n",
       "       'Date', 'Department'],\n",
       "      dtype='object')"
      ]
     },
     "execution_count": 12,
     "metadata": {},
     "output_type": "execute_result"
    }
   ],
   "source": [
    "df.keys()"
   ]
  },
  {
   "cell_type": "markdown",
   "id": "970d5382",
   "metadata": {},
   "source": [
    "#### ***Want to access First to three column***(Slicing Concept)"
   ]
  },
  {
   "cell_type": "code",
   "execution_count": 13,
   "id": "d185abc0",
   "metadata": {},
   "outputs": [
    {
     "data": {
      "text/plain": [
       "array(['Title', 'Artist', 'Nationality'], dtype=object)"
      ]
     },
     "execution_count": 13,
     "metadata": {},
     "output_type": "execute_result"
    }
   ],
   "source": [
    "df.columns.values[0:3]"
   ]
  },
  {
   "cell_type": "markdown",
   "id": "1b7a65ad",
   "metadata": {},
   "source": [
    "#### Want to 'Reverse' all the column ( Concept of 'LIST Slicing')"
   ]
  },
  {
   "cell_type": "code",
   "execution_count": 14,
   "id": "581884a5",
   "metadata": {},
   "outputs": [
    {
     "data": {
      "text/plain": [
       "array(['Department', 'Date', 'Gender', 'EndDate', 'BeginDate',\n",
       "       'Nationality', 'Artist', 'Title'], dtype=object)"
      ]
     },
     "execution_count": 14,
     "metadata": {},
     "output_type": "execute_result"
    }
   ],
   "source": [
    "df.columns.values[::-1]"
   ]
  },
  {
   "cell_type": "markdown",
   "id": "502a6dd9",
   "metadata": {},
   "source": [
    "## ***How to get 'INDEX' from the Dataframe***"
   ]
  },
  {
   "cell_type": "code",
   "execution_count": 15,
   "id": "de4804a7",
   "metadata": {},
   "outputs": [
    {
     "data": {
      "text/plain": [
       "array([    0,     1,     2, ..., 16722, 16723, 16724], dtype=int64)"
      ]
     },
     "execution_count": 15,
     "metadata": {},
     "output_type": "execute_result"
    }
   ],
   "source": [
    "df.index.values"
   ]
  },
  {
   "cell_type": "markdown",
   "id": "04c2d9d2",
   "metadata": {},
   "source": [
    "##### INDEX means want to access the \"ROWS OF THE DataFrame\"\n",
    "\n",
    "#### Want to get 'First Ten' INDEX"
   ]
  },
  {
   "cell_type": "code",
   "execution_count": 16,
   "id": "bbdbf449",
   "metadata": {},
   "outputs": [
    {
     "data": {
      "text/plain": [
       "array([0, 1, 2, 3, 4, 5, 6, 7, 8, 9], dtype=int64)"
      ]
     },
     "execution_count": 16,
     "metadata": {},
     "output_type": "execute_result"
    }
   ],
   "source": [
    "df.index.values[:10]"
   ]
  },
  {
   "cell_type": "code",
   "execution_count": 17,
   "id": "3e95e3e5",
   "metadata": {},
   "outputs": [
    {
     "name": "stdout",
     "output_type": "stream",
     "text": [
      "0,1,2,3,4,5,6,7,8,9,10,11,12,13,14,15,16,17,18,19,20,21,22,23,24,25,26,27,28,29,"
     ]
    }
   ],
   "source": [
    "for i in df.index.values[:30]:  # Applying a loop\n",
    "    print(i,end=\",\")"
   ]
  },
  {
   "cell_type": "code",
   "execution_count": 18,
   "id": "c62e886a",
   "metadata": {},
   "outputs": [
    {
     "data": {
      "text/html": [
       "<div>\n",
       "<style scoped>\n",
       "    .dataframe tbody tr th:only-of-type {\n",
       "        vertical-align: middle;\n",
       "    }\n",
       "\n",
       "    .dataframe tbody tr th {\n",
       "        vertical-align: top;\n",
       "    }\n",
       "\n",
       "    .dataframe thead th {\n",
       "        text-align: right;\n",
       "    }\n",
       "</style>\n",
       "<table border=\"1\" class=\"dataframe\">\n",
       "  <thead>\n",
       "    <tr style=\"text-align: right;\">\n",
       "      <th></th>\n",
       "      <th>Title</th>\n",
       "      <th>Artist</th>\n",
       "      <th>Nationality</th>\n",
       "      <th>BeginDate</th>\n",
       "      <th>EndDate</th>\n",
       "      <th>Gender</th>\n",
       "      <th>Date</th>\n",
       "      <th>Department</th>\n",
       "    </tr>\n",
       "  </thead>\n",
       "  <tbody>\n",
       "    <tr>\n",
       "      <th>0</th>\n",
       "      <td>Dress MacLeod from Tartan Sets</td>\n",
       "      <td>Sarah Charlesworth</td>\n",
       "      <td>American</td>\n",
       "      <td>1947.0</td>\n",
       "      <td>2013.0</td>\n",
       "      <td>Female</td>\n",
       "      <td>1986</td>\n",
       "      <td>Prints &amp; Illustrated Books</td>\n",
       "    </tr>\n",
       "    <tr>\n",
       "      <th>2</th>\n",
       "      <td>Tailpiece (page 55) from SAGESSE</td>\n",
       "      <td>Maurice Denis</td>\n",
       "      <td>French</td>\n",
       "      <td>1870.0</td>\n",
       "      <td>1943.0</td>\n",
       "      <td>Male</td>\n",
       "      <td>1968</td>\n",
       "      <td>Prints &amp; Illustrated Books</td>\n",
       "    </tr>\n",
       "    <tr>\n",
       "      <th>4</th>\n",
       "      <td>97 rue du Bac</td>\n",
       "      <td>Eugène Atget</td>\n",
       "      <td>French</td>\n",
       "      <td>1857.0</td>\n",
       "      <td>1927.0</td>\n",
       "      <td>Male</td>\n",
       "      <td>1903</td>\n",
       "      <td>Photography</td>\n",
       "    </tr>\n",
       "    <tr>\n",
       "      <th>6</th>\n",
       "      <td>Rue de l'Hôtel-de-Ville</td>\n",
       "      <td>Eugène Atget</td>\n",
       "      <td>French</td>\n",
       "      <td>1857.0</td>\n",
       "      <td>1927.0</td>\n",
       "      <td>Male</td>\n",
       "      <td>1924</td>\n",
       "      <td>Photography</td>\n",
       "    </tr>\n",
       "    <tr>\n",
       "      <th>8</th>\n",
       "      <td>Why Defy from Disasters of Peace</td>\n",
       "      <td>Diane Victor</td>\n",
       "      <td>South African</td>\n",
       "      <td>1964.0</td>\n",
       "      <td>NaN</td>\n",
       "      <td>Female</td>\n",
       "      <td>2001</td>\n",
       "      <td>Prints &amp; Illustrated Books</td>\n",
       "    </tr>\n",
       "    <tr>\n",
       "      <th>...</th>\n",
       "      <td>...</td>\n",
       "      <td>...</td>\n",
       "      <td>...</td>\n",
       "      <td>...</td>\n",
       "      <td>...</td>\n",
       "      <td>...</td>\n",
       "      <td>...</td>\n",
       "      <td>...</td>\n",
       "    </tr>\n",
       "    <tr>\n",
       "      <th>16716</th>\n",
       "      <td>Untitled (Heat/Gun)</td>\n",
       "      <td>Marco Breuer</td>\n",
       "      <td>German</td>\n",
       "      <td>1966.0</td>\n",
       "      <td>NaN</td>\n",
       "      <td>Male</td>\n",
       "      <td>1999</td>\n",
       "      <td>Photography</td>\n",
       "    </tr>\n",
       "    <tr>\n",
       "      <th>16718</th>\n",
       "      <td>High Peak</td>\n",
       "      <td>Matthew Rackham Barnes</td>\n",
       "      <td>American</td>\n",
       "      <td>1880.0</td>\n",
       "      <td>1951.0</td>\n",
       "      <td>Male</td>\n",
       "      <td>1936</td>\n",
       "      <td>Painting &amp; Sculpture</td>\n",
       "    </tr>\n",
       "    <tr>\n",
       "      <th>16720</th>\n",
       "      <td>Oval with Points</td>\n",
       "      <td>Henry Moore</td>\n",
       "      <td>British</td>\n",
       "      <td>1898.0</td>\n",
       "      <td>1986.0</td>\n",
       "      <td>Male</td>\n",
       "      <td>1968</td>\n",
       "      <td>Painting &amp; Sculpture</td>\n",
       "    </tr>\n",
       "    <tr>\n",
       "      <th>16722</th>\n",
       "      <td>The Catboat</td>\n",
       "      <td>Edward Hopper</td>\n",
       "      <td>American</td>\n",
       "      <td>1882.0</td>\n",
       "      <td>1967.0</td>\n",
       "      <td>Male</td>\n",
       "      <td>1922</td>\n",
       "      <td>Prints &amp; Illustrated Books</td>\n",
       "    </tr>\n",
       "    <tr>\n",
       "      <th>16724</th>\n",
       "      <td>Plate (page 11) from The Dive</td>\n",
       "      <td>Alex Katz</td>\n",
       "      <td>American</td>\n",
       "      <td>1927.0</td>\n",
       "      <td>NaN</td>\n",
       "      <td>Male</td>\n",
       "      <td>2011</td>\n",
       "      <td>Prints &amp; Illustrated Books</td>\n",
       "    </tr>\n",
       "  </tbody>\n",
       "</table>\n",
       "<p>8363 rows × 8 columns</p>\n",
       "</div>"
      ],
      "text/plain": [
       "                                  Title                  Artist  \\\n",
       "0        Dress MacLeod from Tartan Sets      Sarah Charlesworth   \n",
       "2      Tailpiece (page 55) from SAGESSE           Maurice Denis   \n",
       "4                         97 rue du Bac            Eugène Atget   \n",
       "6               Rue de l'Hôtel-de-Ville            Eugène Atget   \n",
       "8      Why Defy from Disasters of Peace            Diane Victor   \n",
       "...                                 ...                     ...   \n",
       "16716               Untitled (Heat/Gun)            Marco Breuer   \n",
       "16718                         High Peak  Matthew Rackham Barnes   \n",
       "16720                  Oval with Points             Henry Moore   \n",
       "16722                       The Catboat           Edward Hopper   \n",
       "16724     Plate (page 11) from The Dive               Alex Katz   \n",
       "\n",
       "         Nationality  BeginDate  EndDate  Gender  Date  \\\n",
       "0           American     1947.0   2013.0  Female  1986   \n",
       "2             French     1870.0   1943.0    Male  1968   \n",
       "4             French     1857.0   1927.0    Male  1903   \n",
       "6             French     1857.0   1927.0    Male  1924   \n",
       "8      South African     1964.0      NaN  Female  2001   \n",
       "...              ...        ...      ...     ...   ...   \n",
       "16716         German     1966.0      NaN    Male  1999   \n",
       "16718       American     1880.0   1951.0    Male  1936   \n",
       "16720        British     1898.0   1986.0    Male  1968   \n",
       "16722       American     1882.0   1967.0    Male  1922   \n",
       "16724       American     1927.0      NaN    Male  2011   \n",
       "\n",
       "                       Department  \n",
       "0      Prints & Illustrated Books  \n",
       "2      Prints & Illustrated Books  \n",
       "4                     Photography  \n",
       "6                     Photography  \n",
       "8      Prints & Illustrated Books  \n",
       "...                           ...  \n",
       "16716                 Photography  \n",
       "16718        Painting & Sculpture  \n",
       "16720        Painting & Sculpture  \n",
       "16722  Prints & Illustrated Books  \n",
       "16724  Prints & Illustrated Books  \n",
       "\n",
       "[8363 rows x 8 columns]"
      ]
     },
     "execution_count": 18,
     "metadata": {},
     "output_type": "execute_result"
    }
   ],
   "source": [
    "# How to get the data based on 'Even Row'\n",
    "\n",
    "df[0:len(df):2]  # Data showing Based on Even Rows\n"
   ]
  },
  {
   "cell_type": "markdown",
   "id": "24795159",
   "metadata": {},
   "source": [
    "### How to display the entire Data from the DataFrame\n",
    "We have to set the property for the \"max row\""
   ]
  },
  {
   "cell_type": "code",
   "execution_count": 19,
   "id": "8aed47cc",
   "metadata": {},
   "outputs": [],
   "source": [
    "#pd.set_option('display.max_rows', None)\n",
    "#df"
   ]
  },
  {
   "cell_type": "code",
   "execution_count": 20,
   "id": "f9a7fabf",
   "metadata": {},
   "outputs": [],
   "source": [
    "# OR\n",
    "#pd.set_option(\"max_rows\", None)"
   ]
  },
  {
   "cell_type": "markdown",
   "id": "2b5be47b",
   "metadata": {},
   "source": [
    "### How we can reset the display settings"
   ]
  },
  {
   "cell_type": "code",
   "execution_count": 21,
   "id": "eb33b1e0",
   "metadata": {},
   "outputs": [],
   "source": [
    "pd.reset_option(\"display.max_rows\")"
   ]
  },
  {
   "cell_type": "markdown",
   "id": "819712d2",
   "metadata": {},
   "source": [
    "### ***How we can reset all the property using the single command***"
   ]
  },
  {
   "cell_type": "code",
   "execution_count": 22,
   "id": "27b49299",
   "metadata": {},
   "outputs": [],
   "source": [
    "pd.reset_option(\"^display\") #This command will reset all the display settings"
   ]
  },
  {
   "cell_type": "markdown",
   "id": "e8cbf31f",
   "metadata": {},
   "source": [
    "### ***How to get specific column from DataFrame***"
   ]
  },
  {
   "cell_type": "code",
   "execution_count": 23,
   "id": "7890cb61",
   "metadata": {},
   "outputs": [
    {
     "data": {
      "text/plain": [
       "Index(['Title', 'Artist', 'Nationality', 'BeginDate', 'EndDate', 'Gender',\n",
       "       'Date', 'Department'],\n",
       "      dtype='object')"
      ]
     },
     "execution_count": 23,
     "metadata": {},
     "output_type": "execute_result"
    }
   ],
   "source": [
    "df.columns"
   ]
  },
  {
   "cell_type": "code",
   "execution_count": 24,
   "id": "0c6f40d3",
   "metadata": {},
   "outputs": [
    {
     "data": {
      "text/plain": [
       "0                   American\n",
       "1                    Spanish\n",
       "2                     French\n",
       "3                     French\n",
       "4                     French\n",
       "                ...         \n",
       "16720                British\n",
       "16721                Chilean\n",
       "16722               American\n",
       "16723    Nationality Unknown\n",
       "16724               American\n",
       "Name: Nationality, Length: 16725, dtype: object"
      ]
     },
     "execution_count": 24,
     "metadata": {},
     "output_type": "execute_result"
    }
   ],
   "source": [
    "df['Nationality']  # This the series"
   ]
  },
  {
   "cell_type": "markdown",
   "id": "5b8d2078",
   "metadata": {},
   "source": [
    "#### Want to display more columns"
   ]
  },
  {
   "cell_type": "code",
   "execution_count": 25,
   "id": "8e72ccfb",
   "metadata": {},
   "outputs": [
    {
     "data": {
      "text/html": [
       "<div>\n",
       "<style scoped>\n",
       "    .dataframe tbody tr th:only-of-type {\n",
       "        vertical-align: middle;\n",
       "    }\n",
       "\n",
       "    .dataframe tbody tr th {\n",
       "        vertical-align: top;\n",
       "    }\n",
       "\n",
       "    .dataframe thead th {\n",
       "        text-align: right;\n",
       "    }\n",
       "</style>\n",
       "<table border=\"1\" class=\"dataframe\">\n",
       "  <thead>\n",
       "    <tr style=\"text-align: right;\">\n",
       "      <th></th>\n",
       "      <th>Artist</th>\n",
       "      <th>Department</th>\n",
       "    </tr>\n",
       "  </thead>\n",
       "  <tbody>\n",
       "    <tr>\n",
       "      <th>0</th>\n",
       "      <td>Sarah Charlesworth</td>\n",
       "      <td>Prints &amp; Illustrated Books</td>\n",
       "    </tr>\n",
       "    <tr>\n",
       "      <th>1</th>\n",
       "      <td>Pablo Palazuelo</td>\n",
       "      <td>Prints &amp; Illustrated Books</td>\n",
       "    </tr>\n",
       "    <tr>\n",
       "      <th>2</th>\n",
       "      <td>Maurice Denis</td>\n",
       "      <td>Prints &amp; Illustrated Books</td>\n",
       "    </tr>\n",
       "    <tr>\n",
       "      <th>3</th>\n",
       "      <td>Aristide Maillol</td>\n",
       "      <td>Prints &amp; Illustrated Books</td>\n",
       "    </tr>\n",
       "  </tbody>\n",
       "</table>\n",
       "</div>"
      ],
      "text/plain": [
       "               Artist                  Department\n",
       "0  Sarah Charlesworth  Prints & Illustrated Books\n",
       "1     Pablo Palazuelo  Prints & Illustrated Books\n",
       "2       Maurice Denis  Prints & Illustrated Books\n",
       "3    Aristide Maillol  Prints & Illustrated Books"
      ]
     },
     "execution_count": 25,
     "metadata": {},
     "output_type": "execute_result"
    }
   ],
   "source": [
    "df[['Artist','Department']].head(4)"
   ]
  },
  {
   "cell_type": "code",
   "execution_count": 26,
   "id": "40bd32bf",
   "metadata": {},
   "outputs": [
    {
     "data": {
      "text/plain": [
       "pandas.core.series.Series"
      ]
     },
     "execution_count": 26,
     "metadata": {},
     "output_type": "execute_result"
    }
   ],
   "source": [
    "type(df['Nationality'])  # This is the 'Series'"
   ]
  },
  {
   "cell_type": "code",
   "execution_count": 27,
   "id": "d341d48f",
   "metadata": {},
   "outputs": [
    {
     "data": {
      "text/plain": [
       "pandas.core.frame.DataFrame"
      ]
     },
     "execution_count": 27,
     "metadata": {},
     "output_type": "execute_result"
    }
   ],
   "source": [
    "type(df[['Artist','Department']])  # This is the DataFrame"
   ]
  },
  {
   "cell_type": "code",
   "execution_count": 28,
   "id": "06969bbb",
   "metadata": {},
   "outputs": [
    {
     "name": "stdout",
     "output_type": "stream",
     "text": [
      "<class 'pandas.core.frame.DataFrame'>\n",
      "Index: 16725 entries, 0 to 16724\n",
      "Data columns (total 8 columns):\n",
      " #   Column       Non-Null Count  Dtype  \n",
      "---  ------       --------------  -----  \n",
      " 0   Title        16724 non-null  object \n",
      " 1   Artist       16725 non-null  object \n",
      " 2   Nationality  16725 non-null  object \n",
      " 3   BeginDate    15786 non-null  float64\n",
      " 4   EndDate      10474 non-null  float64\n",
      " 5   Gender       16725 non-null  object \n",
      " 6   Date         16725 non-null  int64  \n",
      " 7   Department   16725 non-null  object \n",
      "dtypes: float64(2), int64(1), object(5)\n",
      "memory usage: 1.1+ MB\n"
     ]
    }
   ],
   "source": [
    "# To check all the Data types  \n",
    "df.info()"
   ]
  },
  {
   "cell_type": "code",
   "execution_count": 29,
   "id": "c334730f",
   "metadata": {},
   "outputs": [
    {
     "data": {
      "text/plain": [
       "Title           object\n",
       "Artist          object\n",
       "Nationality     object\n",
       "BeginDate      float64\n",
       "EndDate        float64\n",
       "Gender          object\n",
       "Date             int64\n",
       "Department      object\n",
       "dtype: object"
      ]
     },
     "execution_count": 29,
     "metadata": {},
     "output_type": "execute_result"
    }
   ],
   "source": [
    " # To Display only the Data types\n",
    "df.dtypes"
   ]
  },
  {
   "cell_type": "code",
   "execution_count": 30,
   "id": "2203d920",
   "metadata": {},
   "outputs": [
    {
     "data": {
      "text/plain": [
       "dtype('O')"
      ]
     },
     "execution_count": 30,
     "metadata": {},
     "output_type": "execute_result"
    }
   ],
   "source": [
    "# To check specific column Data types\n",
    "df['Gender'].dtypes"
   ]
  },
  {
   "cell_type": "code",
   "execution_count": 31,
   "id": "1888bf89",
   "metadata": {},
   "outputs": [
    {
     "name": "stdout",
     "output_type": "stream",
     "text": [
      "object\n"
     ]
    }
   ],
   "source": [
    " print(df['Gender'].dtypes)"
   ]
  },
  {
   "cell_type": "code",
   "execution_count": 32,
   "id": "4cee74db",
   "metadata": {},
   "outputs": [
    {
     "data": {
      "text/html": [
       "<div>\n",
       "<style scoped>\n",
       "    .dataframe tbody tr th:only-of-type {\n",
       "        vertical-align: middle;\n",
       "    }\n",
       "\n",
       "    .dataframe tbody tr th {\n",
       "        vertical-align: top;\n",
       "    }\n",
       "\n",
       "    .dataframe thead th {\n",
       "        text-align: right;\n",
       "    }\n",
       "</style>\n",
       "<table border=\"1\" class=\"dataframe\">\n",
       "  <thead>\n",
       "    <tr style=\"text-align: right;\">\n",
       "      <th></th>\n",
       "      <th>BeginDate</th>\n",
       "      <th>EndDate</th>\n",
       "      <th>Date</th>\n",
       "    </tr>\n",
       "  </thead>\n",
       "  <tbody>\n",
       "    <tr>\n",
       "      <th>count</th>\n",
       "      <td>15786.000000</td>\n",
       "      <td>10474.000000</td>\n",
       "      <td>16725.000000</td>\n",
       "    </tr>\n",
       "    <tr>\n",
       "      <th>mean</th>\n",
       "      <td>1911.905676</td>\n",
       "      <td>1971.210426</td>\n",
       "      <td>1960.391091</td>\n",
       "    </tr>\n",
       "    <tr>\n",
       "      <th>std</th>\n",
       "      <td>35.598835</td>\n",
       "      <td>32.212610</td>\n",
       "      <td>30.584037</td>\n",
       "    </tr>\n",
       "    <tr>\n",
       "      <th>min</th>\n",
       "      <td>1746.000000</td>\n",
       "      <td>1828.000000</td>\n",
       "      <td>1805.000000</td>\n",
       "    </tr>\n",
       "    <tr>\n",
       "      <th>25%</th>\n",
       "      <td>1886.000000</td>\n",
       "      <td>1953.000000</td>\n",
       "      <td>1942.000000</td>\n",
       "    </tr>\n",
       "    <tr>\n",
       "      <th>50%</th>\n",
       "      <td>1915.000000</td>\n",
       "      <td>1975.000000</td>\n",
       "      <td>1968.000000</td>\n",
       "    </tr>\n",
       "    <tr>\n",
       "      <th>75%</th>\n",
       "      <td>1939.000000</td>\n",
       "      <td>1997.000000</td>\n",
       "      <td>1977.000000</td>\n",
       "    </tr>\n",
       "    <tr>\n",
       "      <th>max</th>\n",
       "      <td>2012.000000</td>\n",
       "      <td>2018.000000</td>\n",
       "      <td>2018.000000</td>\n",
       "    </tr>\n",
       "  </tbody>\n",
       "</table>\n",
       "</div>"
      ],
      "text/plain": [
       "          BeginDate       EndDate          Date\n",
       "count  15786.000000  10474.000000  16725.000000\n",
       "mean    1911.905676   1971.210426   1960.391091\n",
       "std       35.598835     32.212610     30.584037\n",
       "min     1746.000000   1828.000000   1805.000000\n",
       "25%     1886.000000   1953.000000   1942.000000\n",
       "50%     1915.000000   1975.000000   1968.000000\n",
       "75%     1939.000000   1997.000000   1977.000000\n",
       "max     2012.000000   2018.000000   2018.000000"
      ]
     },
     "execution_count": 32,
     "metadata": {},
     "output_type": "execute_result"
    }
   ],
   "source": [
    "df.describe()"
   ]
  },
  {
   "cell_type": "code",
   "execution_count": 33,
   "id": "67ab0ce0",
   "metadata": {},
   "outputs": [
    {
     "data": {
      "text/plain": [
       "array(['American', 'Spanish', 'French', 'South African', 'Canadian',\n",
       "       'Czech', 'Belgian', 'Russian', 'British', 'German',\n",
       "       'Nationality Unknown', 'Swiss', 'Polish', 'Japanese', 'Portuguese',\n",
       "       'Austrian', 'Australian', 'Italian', 'Chilean', 'Colombian',\n",
       "       'Mexican', 'Brazilian', 'Dutch', 'Romanian', 'Venezuelan',\n",
       "       'Korean', 'Israeli', 'Argentine', 'Indian', 'Swedish', 'Yugoslav',\n",
       "       'Cuban', 'Various', 'Luxembourgish', 'Croatian', 'Bulgarian',\n",
       "       'Hungarian', 'Georgian', 'Puerto Rican', 'Danish', 'Serbian',\n",
       "       'Pakistani', 'Ecuadorian', 'Chinese', 'Iranian', 'Finnish',\n",
       "       'Lebanese', 'Thai', 'Cambodian', 'Scottish', 'Kenyan', 'Latvian',\n",
       "       'Sudanese', 'Uruguayan', 'Peruvian', 'New Zealander', 'Moroccan',\n",
       "       'Guatemalan', 'Cameroonian', 'Egyptian', 'Nigerian', 'Icelandic',\n",
       "       'Haitian', 'Tajik', 'Irish', 'Norwegian', 'Costa Rican',\n",
       "       'Slovenian', 'Turkish', 'Mozambican', 'Palestinian', 'Ukrainian',\n",
       "       'Angolan', 'Tunisian', 'Greek', 'Zimbabwean', 'Bahamian',\n",
       "       'Vietnamese', 'Panamanian', 'Canadian Inuit', 'Malian', 'Filipino'],\n",
       "      dtype=object)"
      ]
     },
     "execution_count": 33,
     "metadata": {},
     "output_type": "execute_result"
    }
   ],
   "source": [
    "df['Nationality'].unique()"
   ]
  },
  {
   "cell_type": "code",
   "execution_count": 34,
   "id": "03228caf",
   "metadata": {},
   "outputs": [
    {
     "ename": "IndentationError",
     "evalue": "unexpected indent (1539843764.py, line 2)",
     "output_type": "error",
     "traceback": [
      "\u001b[1;36m  Cell \u001b[1;32mIn[34], line 2\u001b[1;36m\u001b[0m\n\u001b[1;33m    print(i)\u001b[0m\n\u001b[1;37m    ^\u001b[0m\n\u001b[1;31mIndentationError\u001b[0m\u001b[1;31m:\u001b[0m unexpected indent\n"
     ]
    }
   ],
   "source": [
    "#for i in df['Nationality'].unique():\n",
    " print(i)"
   ]
  },
  {
   "cell_type": "code",
   "execution_count": null,
   "id": "d12b03a8",
   "metadata": {},
   "outputs": [],
   "source": [
    "# How to rename the column\n",
    "df=df.rename(columns = {'Nationality':'Identity'})"
   ]
  },
  {
   "cell_type": "code",
   "execution_count": null,
   "id": "5db25ff9",
   "metadata": {},
   "outputs": [],
   "source": [
    "df.head(1)"
   ]
  },
  {
   "cell_type": "markdown",
   "id": "4dece011",
   "metadata": {},
   "source": [
    "### ***How to Delete a column***\n",
    "We can delete the Multiple column,within the List can supply multiple column names.  df2 = df.drop([\"EndDate\",\"Date\"], axis = 1)"
   ]
  },
  {
   "cell_type": "code",
   "execution_count": null,
   "id": "73cadf20",
   "metadata": {},
   "outputs": [],
   "source": [
    "df1 = df.drop(['BeginDate'],axis= 1)  # There are 2 types of Index in python\n",
    "                                    # 0 & 1 # axis = \"Columns\"\n",
    "                                    # 0 : rows in data frame\n",
    "                                    # 1 : columns in data frame\n",
    "# in some case want to delete particular column then use 'inplace=True'. "
   ]
  },
  {
   "cell_type": "code",
   "execution_count": null,
   "id": "adb5221d",
   "metadata": {
    "scrolled": true
   },
   "outputs": [],
   "source": [
    "df1.head(2)"
   ]
  },
  {
   "cell_type": "code",
   "execution_count": null,
   "id": "4061b773",
   "metadata": {},
   "outputs": [],
   "source": [
    "df.head(2)"
   ]
  },
  {
   "cell_type": "markdown",
   "id": "4d9e865a",
   "metadata": {},
   "source": [
    "### ***How to Delete Data based on Index***\n",
    "When want to reflect these changes in the main Dataframe,will use property (inplace = True )"
   ]
  },
  {
   "cell_type": "code",
   "execution_count": null,
   "id": "913edeb4",
   "metadata": {},
   "outputs": [],
   "source": [
    "df1.index.values"
   ]
  },
  {
   "cell_type": "code",
   "execution_count": null,
   "id": "d8d204bb",
   "metadata": {},
   "outputs": [],
   "source": [
    "df1.drop([0,2,4,6,8], axis = 0, inplace = True) # axis = 0 represents dealing with the 'rows'"
   ]
  },
  {
   "cell_type": "code",
   "execution_count": null,
   "id": "124c8669",
   "metadata": {},
   "outputs": [],
   "source": [
    "df1.head()"
   ]
  },
  {
   "cell_type": "code",
   "execution_count": null,
   "id": "9d4627a7",
   "metadata": {},
   "outputs": [],
   "source": [
    "df1.reset_index()"
   ]
  },
  {
   "cell_type": "markdown",
   "id": "56e90c13",
   "metadata": {},
   "source": [
    "### How to change Default INDEX with the help of Dataframe Column\n",
    "Here we supply \"Column name\" by which want to change by default index."
   ]
  },
  {
   "cell_type": "code",
   "execution_count": null,
   "id": "5a66c3c6",
   "metadata": {},
   "outputs": [],
   "source": [
    "df.set_index(\"Artist\",inplace = True)"
   ]
  },
  {
   "cell_type": "code",
   "execution_count": null,
   "id": "dafac044",
   "metadata": {},
   "outputs": [],
   "source": [
    "df.head(4)"
   ]
  },
  {
   "cell_type": "markdown",
   "id": "91db481d",
   "metadata": {},
   "source": [
    "### How can we access that particular row based on index which is \"Artist\""
   ]
  },
  {
   "cell_type": "code",
   "execution_count": null,
   "id": "e341fed7",
   "metadata": {},
   "outputs": [],
   "source": [
    "df.index.get_loc(\"Pablo Palazuelo\") # Using this particular function,can access any of the particular row\n",
    "                                   # On the second position getting this particular name thats why getting 'True'"
   ]
  },
  {
   "cell_type": "code",
   "execution_count": null,
   "id": "62701bc1",
   "metadata": {},
   "outputs": [],
   "source": [
    "df[df.index.get_loc(\"Pablo Palazuelo\")]  # Getting only the data for that particular index "
   ]
  },
  {
   "cell_type": "code",
   "execution_count": null,
   "id": "dff8db96",
   "metadata": {},
   "outputs": [],
   "source": [
    "df.reset_index(inplace= True)"
   ]
  },
  {
   "cell_type": "code",
   "execution_count": null,
   "id": "f6944f23",
   "metadata": {},
   "outputs": [],
   "source": [
    "df.head(2)"
   ]
  },
  {
   "cell_type": "markdown",
   "id": "475db8fc",
   "metadata": {},
   "source": [
    "###  Based on Two COlumns, can Set  our Index\n",
    "***SET  INDEX  BASED  ON  TWO  COLUMNS***"
   ]
  },
  {
   "cell_type": "code",
   "execution_count": null,
   "id": "0945f148",
   "metadata": {},
   "outputs": [],
   "source": [
    "df.set_index([\"Department\",\"Artist\"], inplace= True)"
   ]
  },
  {
   "cell_type": "code",
   "execution_count": null,
   "id": "13fb380d",
   "metadata": {
    "scrolled": true
   },
   "outputs": [],
   "source": [
    "df.head()"
   ]
  },
  {
   "cell_type": "code",
   "execution_count": null,
   "id": "4fd52dc9",
   "metadata": {},
   "outputs": [],
   "source": [
    "pd.reset_option(\"^display\")"
   ]
  },
  {
   "cell_type": "markdown",
   "id": "317e88ea",
   "metadata": {},
   "source": [
    "# LOC & ILOC\n",
    "***Are Dateframe labels, using this we can access dataframe rows and columns***"
   ]
  },
  {
   "cell_type": "code",
   "execution_count": null,
   "id": "2f61435f",
   "metadata": {},
   "outputs": [],
   "source": [
    "df = pd.read_csv(\"works.csv\" , encoding = \"UTF -8\")\n",
    "#df"
   ]
  },
  {
   "cell_type": "code",
   "execution_count": null,
   "id": "47bbb452",
   "metadata": {},
   "outputs": [],
   "source": [
    "df.shape"
   ]
  },
  {
   "cell_type": "code",
   "execution_count": null,
   "id": "3677eae5",
   "metadata": {},
   "outputs": [],
   "source": [
    "df.head()"
   ]
  },
  {
   "cell_type": "markdown",
   "id": "f27612d4",
   "metadata": {},
   "source": [
    "###  iloc works based on \"integer index base\"\n",
    "based on interger index accesssing the data, So here we have to specify the ROWS and COLUMN by their INEGER INDEX VALUE"
   ]
  },
  {
   "cell_type": "code",
   "execution_count": null,
   "id": "ebe2b160",
   "metadata": {},
   "outputs": [],
   "source": [
    "df.iloc[3] # Here accessing only the row not the column"
   ]
  },
  {
   "cell_type": "code",
   "execution_count": null,
   "id": "7e8afe91",
   "metadata": {},
   "outputs": [],
   "source": [
    "df.head()"
   ]
  },
  {
   "cell_type": "markdown",
   "id": "8e7925b7",
   "metadata": {},
   "source": [
    "### How we can select the multiple rows"
   ]
  },
  {
   "cell_type": "code",
   "execution_count": null,
   "id": "fe3e1a5a",
   "metadata": {
    "scrolled": true
   },
   "outputs": [],
   "source": [
    "# Access second and third row of DataFrame\n",
    "df.iloc[[2,3]] \n",
    "# When using iloc we need specify \"Rows and Columns\"by their integer index\n",
    "# If want to access multiple rows then need to provide \"List\""
   ]
  },
  {
   "cell_type": "code",
   "execution_count": null,
   "id": "f5ecfd9d",
   "metadata": {},
   "outputs": [],
   "source": [
    "# Using the \"Set Index\" we can change our by default index\n",
    "df2 = df.set_index(\"Artist\")\n",
    "df2.head(2)"
   ]
  },
  {
   "cell_type": "code",
   "execution_count": null,
   "id": "68883121",
   "metadata": {},
   "outputs": [],
   "source": [
    "# How can i access that particular row,can access that particualr by their Artist name\n",
    "df2.iloc['Pablo Palazuelo']"
   ]
  },
  {
   "cell_type": "code",
   "execution_count": null,
   "id": "7452a919",
   "metadata": {},
   "outputs": [],
   "source": [
    "df2.iloc[2]"
   ]
  },
  {
   "cell_type": "code",
   "execution_count": null,
   "id": "ef4d6254",
   "metadata": {},
   "outputs": [],
   "source": [
    "df.head()"
   ]
  },
  {
   "cell_type": "code",
   "execution_count": null,
   "id": "1fd5af12",
   "metadata": {},
   "outputs": [],
   "source": [
    "df.iloc[2,3]   # In iloc 'index' start from 'Zero'"
   ]
  },
  {
   "cell_type": "code",
   "execution_count": null,
   "id": "ea10d255",
   "metadata": {},
   "outputs": [],
   "source": [
    "df.iloc[4,7]"
   ]
  },
  {
   "cell_type": "code",
   "execution_count": null,
   "id": "0472f713",
   "metadata": {},
   "outputs": [],
   "source": [
    "df.iloc[[2,3],:]   # Here colon(:) represent the entire column,if not passing colon \n",
    "                  # still got the entire column"
   ]
  },
  {
   "cell_type": "markdown",
   "id": "c11aeab9",
   "metadata": {},
   "source": [
    "## Want all the records with the help of Artist,\"Nationality','Gender',\n",
    "\n",
    "Based on index can access"
   ]
  },
  {
   "cell_type": "code",
   "execution_count": null,
   "id": "31e6a6c2",
   "metadata": {},
   "outputs": [],
   "source": [
    "df.iloc[:,[1,2,5]]"
   ]
  },
  {
   "cell_type": "code",
   "execution_count": null,
   "id": "d34ef771",
   "metadata": {},
   "outputs": [],
   "source": [
    "df.iloc[[2,4,5],2:5]"
   ]
  },
  {
   "cell_type": "markdown",
   "id": "4edc3d83",
   "metadata": {},
   "source": [
    "When using iloc,we need to pass integer value for accessing the rows & columns.\n",
    "When using loc, loc is labelled based( we need to specify the name of the rows & columns)Row means whatever your index name (index can be number or string)"
   ]
  },
  {
   "cell_type": "code",
   "execution_count": null,
   "id": "98e06d78",
   "metadata": {},
   "outputs": [],
   "source": [
    "df.loc[5]  # means all the data from the fifth row"
   ]
  },
  {
   "cell_type": "code",
   "execution_count": null,
   "id": "3e4c8166",
   "metadata": {},
   "outputs": [],
   "source": [
    "# want to access some specific rows\n",
    "\n",
    "df.loc[[2,4,5,7]]   # based on the index name u can access that particular rows"
   ]
  },
  {
   "cell_type": "markdown",
   "id": "3f771cd6",
   "metadata": {},
   "source": [
    "### Using loc,How can i get 2 column Artist and Gender"
   ]
  },
  {
   "cell_type": "code",
   "execution_count": null,
   "id": "42d76fd0",
   "metadata": {},
   "outputs": [],
   "source": [
    "df.loc[[2,5,7,9,6],['Artist','Gender']]  # in the loc we have to specify the column`s name"
   ]
  },
  {
   "cell_type": "markdown",
   "id": "09501228",
   "metadata": {},
   "source": [
    "## How to apply filter using loc"
   ]
  },
  {
   "cell_type": "code",
   "execution_count": null,
   "id": "6c252d28",
   "metadata": {},
   "outputs": [],
   "source": [
    "df.loc[df['Nationality']==\"(Spanish)\", :] # Those record that belongs to spanish nationality"
   ]
  },
  {
   "cell_type": "code",
   "execution_count": null,
   "id": "e6fc4e89",
   "metadata": {},
   "outputs": [],
   "source": [
    "# Want to extract some specific columns\n",
    "\n",
    "df.loc[df.Nationality =='(American)',\"BeginDate\":\"Department\"]"
   ]
  },
  {
   "cell_type": "code",
   "execution_count": null,
   "id": "37e39de4",
   "metadata": {},
   "outputs": [],
   "source": [
    "# If only want two columns \n",
    "df.loc[df.Nationality =='(American)',['BeginDate','Date']]"
   ]
  },
  {
   "cell_type": "code",
   "execution_count": null,
   "id": "5708a75b",
   "metadata": {},
   "outputs": [],
   "source": []
  },
  {
   "cell_type": "code",
   "execution_count": null,
   "id": "be88044c",
   "metadata": {},
   "outputs": [],
   "source": []
  }
 ],
 "metadata": {
  "kernelspec": {
   "display_name": "Python 3 (ipykernel)",
   "language": "python",
   "name": "python3"
  },
  "language_info": {
   "codemirror_mode": {
    "name": "ipython",
    "version": 3
   },
   "file_extension": ".py",
   "mimetype": "text/x-python",
   "name": "python",
   "nbconvert_exporter": "python",
   "pygments_lexer": "ipython3",
   "version": "3.11.5"
  }
 },
 "nbformat": 4,
 "nbformat_minor": 5
}
